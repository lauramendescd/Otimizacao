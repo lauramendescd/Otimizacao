{
  "nbformat": 4,
  "nbformat_minor": 0,
  "metadata": {
    "colab": {
      "provenance": [],
      "authorship_tag": "ABX9TyNOl5XJsxdaA6TreDCWH3BJ",
      "include_colab_link": true
    },
    "kernelspec": {
      "name": "python3",
      "display_name": "Python 3"
    },
    "language_info": {
      "name": "python"
    }
  },
  "cells": [
    {
      "cell_type": "markdown",
      "metadata": {
        "id": "view-in-github",
        "colab_type": "text"
      },
      "source": [
        "<a href=\"https://colab.research.google.com/github/lauramendescd/Otimizacao/blob/main/atv_01_otimizacao.ipynb\" target=\"_parent\"><img src=\"https://colab.research.google.com/assets/colab-badge.svg\" alt=\"Open In Colab\"/></a>"
      ]
    },
    {
      "cell_type": "markdown",
      "source": [
        "Entrada: Função F(x) e sua matriz Jacobiana ;\n",
        "Aproximação da solução x.\n",
        "Dados:\n",
        "- Número máximo de interações kmax ;\n",
        "- tolerâncias τ e ε.\n",
        "- Inicialize: k = 0, Fx = F(x) e Er = τ + 1.\n",
        "enquantok ≤kmax,∥Fx∥∞ >εeEr >τ faça\n",
        "1. Atualize: k = k + 1.\n",
        "2. Resolva: J(x)s = −Fx. 3. Atualize: x = x + s.\n",
        "4. Calcule: Er = ∥s∥∞. 5. Avalie: Fx = F(x).\n",
        "fim\n",
        "\n"
      ],
      "metadata": {
        "id": "ppIdGboYodqS"
      }
    },
    {
      "cell_type": "code",
      "execution_count": null,
      "metadata": {
        "colab": {
          "base_uri": "https://localhost:8080/"
        },
        "id": "EKf2D9CLkm3M",
        "outputId": "ea7c4baf-8fbd-41b8-e54a-2286cd368ef7"
      },
      "outputs": [
        {
          "output_type": "stream",
          "name": "stdout",
          "text": [
            " iteracão 1: [[[[1.41283885]]]]\n",
            " iteracão 2: [[[[-0.07140427]]]]\n",
            " iteracão 3: [[[[[[[[0.07959231]]]]]]]]\n",
            " iteracão 4: [[-9.97314355]]\n",
            " iteracão 5: [[-8.15560548]]\n"
          ]
        },
        {
          "output_type": "stream",
          "name": "stderr",
          "text": [
            "<ipython-input-5-14a7ca907c8c>:5: RuntimeWarning: invalid value encountered in log\n",
            "  return 9*x - 4*np.log(x - 7)\n"
          ]
        }
      ],
      "source": [
        "import math\n",
        "import numpy as np\n",
        "\n",
        "def f(x):\n",
        "    return 9*x - 4*np.log(x - 7)\n",
        "\n",
        "def matriz_j(x):\n",
        "    return np.array([[9 - 4/(x - 7)]])\n",
        "\n",
        "def m_newton(f, matriz_j, x0, kmax, t_tau, t_epsilon):\n",
        "    k = 0\n",
        "    x = x0\n",
        "    fx = f(x)\n",
        "    error = t_tau + 1\n",
        "\n",
        "    while k <= kmax and np.max(np.abs(fx)) > t_epsilon and error > t_tau:\n",
        "        k += 1\n",
        "        j = matriz_j(x)\n",
        "        j_inv = np.linalg.pinv(j)  # inversa da matriz\n",
        "        s = np.dot(j_inv, -fx)  # produto matricial entre a inversa e -fx\n",
        "        x = x + s\n",
        "        error = np.max(np.abs(s))\n",
        "        fx = f(x)\n",
        "\n",
        "    return x\n",
        "\n",
        "d_0 = [7.4, 7.2, 7.01, 7.8, 7.88]\n",
        "kmax = 5\n",
        "t_tau= 0.01\n",
        "t_epsilon = 0.001\n",
        "\n",
        "for i, x0 in enumerate(d_0):\n",
        "    solucao = m_newton(f, matriz_j, x0, kmax, t_tau, t_epsilon)\n",
        "    print(f\" iteracão {i+1}: {solucao}\")\n",
        "\n"
      ]
    },
    {
      "cell_type": "code",
      "source": [
        "import math\n",
        "import numpy as np\n",
        "\n",
        "def f(x):\n",
        "    return 9*x - 4*np.log(x - 7)\n",
        "\n",
        "def df(x):\n",
        "    return 9 - 4/(x - 7)\n",
        "\n",
        "def m_newton(f, df, x0, kmax, t_tau, t_epsilon):\n",
        "    k = 0\n",
        "    x = x0\n",
        "    fx = f(x)\n",
        "    error = t_tau + 1\n",
        "\n",
        "    print(f\" {x0}:\")\n",
        "\n",
        "    for k in range(1, kmax + 1):\n",
        "        s = -fx / df(x)\n",
        "        x = x + s\n",
        "        error = np.max(np.abs(s))\n",
        "        fx = f(x)\n",
        "        print(f\"Iteração {k}: x = {x}\")\n",
        "        if math.isnan(x):\n",
        "            break\n",
        "\n",
        "    print(f\"Solução Final: x = {x}\\n\")\n",
        "\n",
        "d_0 = [7.4, 7.2, 7.01, 7.8, 7.88]\n",
        "kmax = 5\n",
        "t_tau = 0.01\n",
        "t_epsilon = 0.001\n",
        "\n",
        "for x0 in d_0:\n",
        "    m_newton(f, df, x0, kmax, t_tau, t_epsilon)\n"
      ],
      "metadata": {
        "id": "Et8-FPfj0lQI",
        "outputId": "01c6a866-622f-443c-80d2-9f2c6d490bc6",
        "colab": {
          "base_uri": "https://localhost:8080/"
        }
      },
      "execution_count": 2,
      "outputs": [
        {
          "output_type": "stream",
          "name": "stdout",
          "text": [
            " 7.4:\n",
            "Iteração 1: x = 77.66516292749725\n",
            "Iteração 2: x = 1.4128388546131418\n",
            "Iteração 3: x = nan\n",
            "Solução Final: x = nan\n",
            "\n",
            " 7.2:\n",
            "Iteração 1: x = 13.676159240885138\n",
            "Iteração 2: x = -0.07140426574133585\n",
            "Iteração 3: x = nan\n",
            "Solução Final: x = nan\n",
            "\n",
            " 7.01:\n",
            "Iteração 1: x = 7.218467214178902\n",
            "Iteração 2: x = 14.850624860099924\n",
            "Iteração 3: x = 0.0795923109084491\n",
            "Iteração 4: x = nan\n",
            "Solução Final: x = nan\n",
            "\n",
            " 7.8:\n",
            "Iteração 1: x = -9.973143551314212\n",
            "Iteração 2: x = nan\n",
            "Solução Final: x = nan\n",
            "\n",
            " 7.88:\n",
            "Iteração 1: x = -8.155605476457861\n",
            "Iteração 2: x = nan\n",
            "Solução Final: x = nan\n",
            "\n"
          ]
        },
        {
          "output_type": "stream",
          "name": "stderr",
          "text": [
            "<ipython-input-2-6d9cc2e9df68>:5: RuntimeWarning: invalid value encountered in log\n",
            "  return 9*x - 4*np.log(x - 7)\n"
          ]
        }
      ]
    }
  ]
}