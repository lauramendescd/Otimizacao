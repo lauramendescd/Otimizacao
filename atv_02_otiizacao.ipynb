{
  "nbformat": 4,
  "nbformat_minor": 0,
  "metadata": {
    "colab": {
      "provenance": [],
      "authorship_tag": "ABX9TyOICwqsW9G3rRESzAvB6Ntk",
      "include_colab_link": true
    },
    "kernelspec": {
      "name": "python3",
      "display_name": "Python 3"
    },
    "language_info": {
      "name": "python"
    }
  },
  "cells": [
    {
      "cell_type": "markdown",
      "metadata": {
        "id": "view-in-github",
        "colab_type": "text"
      },
      "source": [
        "<a href=\"https://colab.research.google.com/github/lauramendescd/Otimizacao/blob/main/atv_02_otiizacao.ipynb\" target=\"_parent\"><img src=\"https://colab.research.google.com/assets/colab-badge.svg\" alt=\"Open In Colab\"/></a>"
      ]
    },
    {
      "cell_type": "code",
      "source": [
        "import math\n",
        "import numpy as np\n",
        "\n",
        "def f(x):\n",
        "    return 6*x - 4*np.log(x - 2) - 3*np.log(25 - x)\n",
        "\n",
        "def df(x):\n",
        "    return 6 - 4/(x - 2) + 3/(25 - x)\n",
        "\n",
        "def m_newton(f, df, x0, kmax, t_tau, t_epsilon):\n",
        "    k = 0\n",
        "    x = x0\n",
        "    fx = f(x)\n",
        "    error = t_tau + 1\n",
        "\n",
        "    print(f\" {x0}:\")\n",
        "\n",
        "    for k in range(1, kmax + 1):\n",
        "        s = -fx / df(x)\n",
        "        x = x + s\n",
        "        error = np.max(np.abs(s))\n",
        "        fx = f(x)\n",
        "        print(f\"Iteração {k}: x = {x}\")\n",
        "        if math.isnan(x):\n",
        "            break\n",
        "\n",
        "    print(f\"Solução Final: x = {x}\\n\")\n",
        "\n",
        "\n",
        "d_0 = [2.6, 2.7, 2.4, 2.8, 2.3]\n",
        "kmax = 5\n",
        "t_tau = 0.01\n",
        "t_epsilon = 0.001\n",
        "\n",
        "for x0 in d_0:\n",
        "    m_newton(f, df, x0, kmax, t_tau, t_epsilon)\n",
        "\n",
        "for x0 in d_0:\n",
        "    if 2 > x0 < 3.05:\n",
        "        print(f\"Valor inicial x0 = {x0}:\")\n",
        "        m_newton(f, df, x0, kmax, t_tau, t_epsilon)\n",
        "    else:\n",
        "        print(f\"Valor inicial x0 = {x0}: Fora do intervalo de convergência (2 < x < 3.05)\\n\")\n",
        "        m_newton(f, df, x0, kmax, t_tau, t_epsilon)\n",
        "\n"
      ],
      "metadata": {
        "colab": {
          "base_uri": "https://localhost:8080/"
        },
        "id": "9_e1VGLIBzla",
        "outputId": "876ecca8-d429-4e31-daec-68f49123a2ea"
      },
      "execution_count": 26,
      "outputs": [
        {
          "output_type": "stream",
          "name": "stdout",
          "text": [
            " 2.6:\n",
            "Iteração 1: x = 18.210146322958728\n",
            "Iteração 2: x = 3.299589972211214\n",
            "Iteração 3: x = 0.18970262182154984\n",
            "Iteração 4: x = nan\n",
            "Solução Final: x = nan\n",
            "\n",
            " 2.7:\n",
            "Iteração 1: x = -17.081248376062167\n",
            "Iteração 2: x = nan\n",
            "Solução Final: x = nan\n",
            "\n",
            " 2.4:\n",
            "Iteração 1: x = 4.652582134047584\n",
            "Iteração 2: x = 1.424954226969982\n",
            "Iteração 3: x = nan\n",
            "Solução Final: x = nan\n",
            "\n",
            " 2.8:\n",
            "Iteração 1: x = -4.593214322119505\n",
            "Iteração 2: x = nan\n",
            "Solução Final: x = nan\n",
            "\n",
            " 2.3:\n",
            "Iteração 1: x = 3.5843455094323353\n",
            "Iteração 2: x = 0.6875508756551727\n",
            "Iteração 3: x = nan\n",
            "Solução Final: x = nan\n",
            "\n",
            "Valor inicial x0 = 2.6: Fora do intervalo de convergência (2 < x < 3.05)\n",
            "\n",
            " 2.6:\n",
            "Iteração 1: x = 18.210146322958728\n",
            "Iteração 2: x = 3.299589972211214\n",
            "Iteração 3: x = 0.18970262182154984\n",
            "Iteração 4: x = nan\n",
            "Solução Final: x = nan\n",
            "\n",
            "Valor inicial x0 = 2.7: Fora do intervalo de convergência (2 < x < 3.05)\n",
            "\n",
            " 2.7:\n",
            "Iteração 1: x = -17.081248376062167\n",
            "Iteração 2: x = nan\n",
            "Solução Final: x = nan\n",
            "\n",
            "Valor inicial x0 = 2.4: Fora do intervalo de convergência (2 < x < 3.05)\n",
            "\n",
            " 2.4:\n",
            "Iteração 1: x = 4.652582134047584\n",
            "Iteração 2: x = 1.424954226969982\n",
            "Iteração 3: x = nan\n",
            "Solução Final: x = nan\n",
            "\n",
            "Valor inicial x0 = 2.8: Fora do intervalo de convergência (2 < x < 3.05)\n",
            "\n",
            " 2.8:\n",
            "Iteração 1: x = -4.593214322119505\n",
            "Iteração 2: x = nan\n",
            "Solução Final: x = nan\n",
            "\n",
            "Valor inicial x0 = 2.3: Fora do intervalo de convergência (2 < x < 3.05)\n",
            "\n",
            " 2.3:\n",
            "Iteração 1: x = 3.5843455094323353\n",
            "Iteração 2: x = 0.6875508756551727\n",
            "Iteração 3: x = nan\n",
            "Solução Final: x = nan\n",
            "\n"
          ]
        },
        {
          "output_type": "stream",
          "name": "stderr",
          "text": [
            "<ipython-input-26-a5d2b0689313>:5: RuntimeWarning: invalid value encountered in log\n",
            "  return 6*x - 4*np.log(x - 2) - 3*np.log(25 - x)\n"
          ]
        }
      ]
    }
  ]
}