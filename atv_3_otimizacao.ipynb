{
  "nbformat": 4,
  "nbformat_minor": 0,
  "metadata": {
    "colab": {
      "provenance": [],
      "authorship_tag": "ABX9TyO5YA+MO/HQ0904lEbTWQUo",
      "include_colab_link": true
    },
    "kernelspec": {
      "name": "python3",
      "display_name": "Python 3"
    },
    "language_info": {
      "name": "python"
    }
  },
  "cells": [
    {
      "cell_type": "markdown",
      "metadata": {
        "id": "view-in-github",
        "colab_type": "text"
      },
      "source": [
        "<a href=\"https://colab.research.google.com/github/lauramendescd/Otimizacao/blob/main/atv_3_otimizacao.ipynb\" target=\"_parent\"><img src=\"https://colab.research.google.com/assets/colab-badge.svg\" alt=\"Open In Colab\"/></a>"
      ]
    },
    {
      "cell_type": "markdown",
      "source": [
        "+ escolha x0\n",
        "+ escolha as direções conjugadas d0, d1 e d2\n",
        "+ k = 0\n",
        "+ repete enquanto :\n",
        "    + t(k) = -(delta t(x(k)) - d(k)  ) / d(k)ˆT*A*d(k)\n",
        "    + x(k +1)= x(k) + t(k)*d(k)\n",
        "    + k = k+1\n",
        "+ fim"
      ],
      "metadata": {
        "id": "qr8ArGZJ-Nah"
      }
    },
    {
      "cell_type": "code",
      "source": [
        "import numpy as np\n",
        "\n",
        "# matriz A\n",
        "A = np.array([[3, 0, 1], [0, 4, 2], [1, 2, 3]])\n",
        "\n",
        "# direções\n",
        "d0 = np.array([1, 0, -3])\n",
        "d1 = np.array([1, 0, 0])\n",
        "d2 = np.array([1, 4, -3])\n",
        "\n",
        "#  produtos internos\n",
        "produto_d0 = np.dot(np.dot(d0.T, A), d0)\n",
        "produto_d1 = np.dot(np.dot(d1.T, A), d1)\n",
        "produto_d2 = np.dot(np.dot(d2.T, A), d2)\n",
        "\n",
        "print(\"Produto interno entre d0 e A:\", produto_d0)\n",
        "print(\"Produto interno entre d1 e A:\", produto_d1)\n",
        "print(\"Produto interno entre d2 e A:\", produto_d2)\n",
        "\n",
        "print(\"Os produtos internos entre cada direção e a matriz A são diferentes de 0, então d0, d1 e d2 não são conjugadas com a matriz A.\")"
      ],
      "metadata": {
        "colab": {
          "base_uri": "https://localhost:8080/"
        },
        "id": "hYCZWZIj7aCY",
        "outputId": "97385ad8-7a30-4f99-c761-73fb9432b555"
      },
      "execution_count": 15,
      "outputs": [
        {
          "output_type": "stream",
          "name": "stdout",
          "text": [
            "Produto interno entre d0 e A: 24\n",
            "Produto interno entre d1 e A: 3\n",
            "Produto interno entre d2 e A: 40\n",
            "Os produtos internos entre cada direção e a matriz A são diferentes de 0, então d0, d1 e d2 não são conjugadas com a matriz A.\n"
          ]
        }
      ]
    },
    {
      "cell_type": "code",
      "execution_count": 16,
      "metadata": {
        "colab": {
          "base_uri": "https://localhost:8080/"
        },
        "id": "kRYdCqpqwc1O",
        "outputId": "4a259659-39b4-4f67-e84e-2971754532a2"
      },
      "outputs": [
        {
          "output_type": "stream",
          "name": "stdout",
          "text": [
            "Valor que minimiza a função: [0.875 0.    0.375]\n"
          ]
        }
      ],
      "source": [
        "import numpy as np\n",
        "\n",
        "# matriz A\n",
        "A = np.array([[3, 0, 1], [0, 4, 2], [1, 2, 3]])\n",
        "\n",
        "# vetor b\n",
        "b = np.array([0, 0, 1])\n",
        "\n",
        "# x0\n",
        "x0 = np.array([1, 0, 0])\n",
        "\n",
        "# direções conjugadas\n",
        "d0 = np.array([1, 0, -3])\n",
        "d1 = np.array([1, 0, 0])\n",
        "d2 = np.array([1, 4, -3])\n",
        "\n",
        "# inicializando x0 e k\n",
        "x = x0\n",
        "k = 0\n",
        "\n",
        "# método\n",
        "while k < len(A):\n",
        "    t = -(np.dot(np.dot(A, x), d0) - np.dot(b, d0)) / np.dot(np.dot(d0, A), d0)\n",
        "    x = x + t * d0\n",
        "    k += 1\n",
        "\n",
        "print(\"Valor que minimiza a função:\", x)\n"
      ]
    }
  ]
}